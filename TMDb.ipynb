{
 "cells": [
  {
   "cell_type": "markdown",
   "id": "a6c76593",
   "metadata": {},
   "source": [
    "# Project: Investigate a Movie Dataset (TMDb Movies Dataset)\n",
    "\n",
    "## Table of Contents\n",
    "<ul>\n",
    "<li><a href=\"#intro\">Introduction</a></li>\n",
    "<li><a href=\"#question\">Questions</a></li>\n",
    "<li><a href=\"#wrangling\">Data Wrangling</a></li>\n",
    "<li><a href=\"#eda\">Exploratory Data Analysis</a></li>\n",
    "<li><a href=\"#conclusions\">Conclusions</a></li>\n",
    "<li><a href=\"#limitation\">Limitations</a></li>\n",
    "</ul>"
   ]
  },
  {
   "cell_type": "markdown",
   "id": "776ae732",
   "metadata": {},
   "source": [
    "<a id='intro'></a>\n",
    "# Introduction\n",
    "\n",
    "## This is a project towards the Udcity Data Analytics nanodegree certification\n",
    "\n",
    "This data set contains information\n",
    "about 10,000 movies collected from\n",
    "The Movie Database (TMDb),\n",
    "including user ratings and revenue.\n",
    "- Certain columns, like ‘cast’\n",
    "and ‘genres’, contain multiple\n",
    "values separated by pipe (|)\n",
    "characters.\n",
    "- There are some odd characters\n",
    "in the ‘cast’ column. Don’t worry\n",
    "about cleaning them. You can\n",
    "leave them as is.\n",
    "- The final two columns ending\n",
    "with “_adj” show the budget and\n",
    "revenue of the associated movie\n",
    "in terms of 2010 dollars,\n",
    "accounting for inflation over\n",
    "time."
   ]
  },
  {
   "cell_type": "markdown",
   "id": "e05cbacb",
   "metadata": {},
   "source": [
    "<a id='question'></a>\n",
    "# Questions\n",
    "## Some questions of interest that arise from the movie features are:\n",
    "- Which genres are most popular?\n",
    "- How has movie runtime changed over the years?\n",
    "- Which genres generate more revenue?\n",
    "- How has overall movie revenue changed over the years?\n",
    "- which is the <strong>most popular and least popular</strong> movie?\n",
    "- What are the top ten most popular movies?\n",
    "- What genres do most producers produce?\n",
    "- How has the cost of movie production changed over the years?\n",
    "\n",
    "## However, we are going to answer the questions.\n",
    "- How has The cost of movie production changed over the years?\n",
    "- How has revenue from movie sales et'al changed over the years?\n",
    "- How has profitability changed over the years?\n",
    "- with respect to the 2010 inflation rate, comment on effect of inflation on overall cost overhead\n",
    "\n",
    "we answer these questions using the actual revenue,  values and the values adjusted for the 2010 value of the Dollar"
   ]
  },
  {
   "cell_type": "markdown",
   "id": "baff1f92",
   "metadata": {},
   "source": [
    "### import the needed packages"
   ]
  },
  {
   "cell_type": "code",
   "execution_count": 43,
   "id": "af53a772",
   "metadata": {},
   "outputs": [
    {
     "data": {
      "text/html": [
       "<div>\n",
       "<style scoped>\n",
       "    .dataframe tbody tr th:only-of-type {\n",
       "        vertical-align: middle;\n",
       "    }\n",
       "\n",
       "    .dataframe tbody tr th {\n",
       "        vertical-align: top;\n",
       "    }\n",
       "\n",
       "    .dataframe thead th {\n",
       "        text-align: right;\n",
       "    }\n",
       "</style>\n",
       "<table border=\"1\" class=\"dataframe\">\n",
       "  <thead>\n",
       "    <tr style=\"text-align: right;\">\n",
       "      <th></th>\n",
       "      <th>id</th>\n",
       "      <th>imdb_id</th>\n",
       "      <th>popularity</th>\n",
       "      <th>budget</th>\n",
       "      <th>revenue</th>\n",
       "      <th>original_title</th>\n",
       "      <th>cast</th>\n",
       "      <th>homepage</th>\n",
       "      <th>director</th>\n",
       "      <th>tagline</th>\n",
       "      <th>...</th>\n",
       "      <th>overview</th>\n",
       "      <th>runtime</th>\n",
       "      <th>genres</th>\n",
       "      <th>production_companies</th>\n",
       "      <th>release_date</th>\n",
       "      <th>vote_count</th>\n",
       "      <th>vote_average</th>\n",
       "      <th>release_year</th>\n",
       "      <th>budget_adj</th>\n",
       "      <th>revenue_adj</th>\n",
       "    </tr>\n",
       "  </thead>\n",
       "  <tbody>\n",
       "    <tr>\n",
       "      <th>0</th>\n",
       "      <td>135397</td>\n",
       "      <td>tt0369610</td>\n",
       "      <td>32.985763</td>\n",
       "      <td>150000000</td>\n",
       "      <td>1513528810</td>\n",
       "      <td>Jurassic World</td>\n",
       "      <td>Chris Pratt|Bryce Dallas Howard|Irrfan Khan|Vi...</td>\n",
       "      <td>http://www.jurassicworld.com/</td>\n",
       "      <td>Colin Trevorrow</td>\n",
       "      <td>The park is open.</td>\n",
       "      <td>...</td>\n",
       "      <td>Twenty-two years after the events of Jurassic ...</td>\n",
       "      <td>124</td>\n",
       "      <td>Action|Adventure|Science Fiction|Thriller</td>\n",
       "      <td>Universal Studios|Amblin Entertainment|Legenda...</td>\n",
       "      <td>6/9/15</td>\n",
       "      <td>5562</td>\n",
       "      <td>6.5</td>\n",
       "      <td>2015</td>\n",
       "      <td>1.379999e+08</td>\n",
       "      <td>1.392446e+09</td>\n",
       "    </tr>\n",
       "    <tr>\n",
       "      <th>1</th>\n",
       "      <td>76341</td>\n",
       "      <td>tt1392190</td>\n",
       "      <td>28.419936</td>\n",
       "      <td>150000000</td>\n",
       "      <td>378436354</td>\n",
       "      <td>Mad Max: Fury Road</td>\n",
       "      <td>Tom Hardy|Charlize Theron|Hugh Keays-Byrne|Nic...</td>\n",
       "      <td>http://www.madmaxmovie.com/</td>\n",
       "      <td>George Miller</td>\n",
       "      <td>What a Lovely Day.</td>\n",
       "      <td>...</td>\n",
       "      <td>An apocalyptic story set in the furthest reach...</td>\n",
       "      <td>120</td>\n",
       "      <td>Action|Adventure|Science Fiction|Thriller</td>\n",
       "      <td>Village Roadshow Pictures|Kennedy Miller Produ...</td>\n",
       "      <td>5/13/15</td>\n",
       "      <td>6185</td>\n",
       "      <td>7.1</td>\n",
       "      <td>2015</td>\n",
       "      <td>1.379999e+08</td>\n",
       "      <td>3.481613e+08</td>\n",
       "    </tr>\n",
       "    <tr>\n",
       "      <th>2</th>\n",
       "      <td>262500</td>\n",
       "      <td>tt2908446</td>\n",
       "      <td>13.112507</td>\n",
       "      <td>110000000</td>\n",
       "      <td>295238201</td>\n",
       "      <td>Insurgent</td>\n",
       "      <td>Shailene Woodley|Theo James|Kate Winslet|Ansel...</td>\n",
       "      <td>http://www.thedivergentseries.movie/#insurgent</td>\n",
       "      <td>Robert Schwentke</td>\n",
       "      <td>One Choice Can Destroy You</td>\n",
       "      <td>...</td>\n",
       "      <td>Beatrice Prior must confront her inner demons ...</td>\n",
       "      <td>119</td>\n",
       "      <td>Adventure|Science Fiction|Thriller</td>\n",
       "      <td>Summit Entertainment|Mandeville Films|Red Wago...</td>\n",
       "      <td>3/18/15</td>\n",
       "      <td>2480</td>\n",
       "      <td>6.3</td>\n",
       "      <td>2015</td>\n",
       "      <td>1.012000e+08</td>\n",
       "      <td>2.716190e+08</td>\n",
       "    </tr>\n",
       "  </tbody>\n",
       "</table>\n",
       "<p>3 rows × 21 columns</p>\n",
       "</div>"
      ],
      "text/plain": [
       "       id    imdb_id  popularity     budget     revenue      original_title  \\\n",
       "0  135397  tt0369610   32.985763  150000000  1513528810      Jurassic World   \n",
       "1   76341  tt1392190   28.419936  150000000   378436354  Mad Max: Fury Road   \n",
       "2  262500  tt2908446   13.112507  110000000   295238201           Insurgent   \n",
       "\n",
       "                                                cast  \\\n",
       "0  Chris Pratt|Bryce Dallas Howard|Irrfan Khan|Vi...   \n",
       "1  Tom Hardy|Charlize Theron|Hugh Keays-Byrne|Nic...   \n",
       "2  Shailene Woodley|Theo James|Kate Winslet|Ansel...   \n",
       "\n",
       "                                         homepage          director  \\\n",
       "0                   http://www.jurassicworld.com/   Colin Trevorrow   \n",
       "1                     http://www.madmaxmovie.com/     George Miller   \n",
       "2  http://www.thedivergentseries.movie/#insurgent  Robert Schwentke   \n",
       "\n",
       "                      tagline  ...  \\\n",
       "0           The park is open.  ...   \n",
       "1          What a Lovely Day.  ...   \n",
       "2  One Choice Can Destroy You  ...   \n",
       "\n",
       "                                            overview runtime  \\\n",
       "0  Twenty-two years after the events of Jurassic ...     124   \n",
       "1  An apocalyptic story set in the furthest reach...     120   \n",
       "2  Beatrice Prior must confront her inner demons ...     119   \n",
       "\n",
       "                                      genres  \\\n",
       "0  Action|Adventure|Science Fiction|Thriller   \n",
       "1  Action|Adventure|Science Fiction|Thriller   \n",
       "2         Adventure|Science Fiction|Thriller   \n",
       "\n",
       "                                production_companies release_date vote_count  \\\n",
       "0  Universal Studios|Amblin Entertainment|Legenda...       6/9/15       5562   \n",
       "1  Village Roadshow Pictures|Kennedy Miller Produ...      5/13/15       6185   \n",
       "2  Summit Entertainment|Mandeville Films|Red Wago...      3/18/15       2480   \n",
       "\n",
       "   vote_average  release_year    budget_adj   revenue_adj  \n",
       "0           6.5          2015  1.379999e+08  1.392446e+09  \n",
       "1           7.1          2015  1.379999e+08  3.481613e+08  \n",
       "2           6.3          2015  1.012000e+08  2.716190e+08  \n",
       "\n",
       "[3 rows x 21 columns]"
      ]
     },
     "execution_count": 43,
     "metadata": {},
     "output_type": "execute_result"
    }
   ],
   "source": [
    "from TMDb import *\n",
    "%matplotlib inline\n",
    "movie_df.head(3)"
   ]
  },
  {
   "cell_type": "markdown",
   "id": "de91fb16",
   "metadata": {},
   "source": [
    "### Observation\n",
    "The revenue and budget have no currency specified, however, the TMDb from [themoviedb](https://www.themoviedb.org/talk/58867597c3a36817620028ed), \",<em>All currency values on TMDb is assumed to be USD</em>.\""
   ]
  },
  {
   "cell_type": "markdown",
   "id": "660b2b98",
   "metadata": {},
   "source": [
    "#### Dimension of dtaframe"
   ]
  },
  {
   "cell_type": "code",
   "execution_count": 44,
   "id": "e6f9c4b1",
   "metadata": {},
   "outputs": [
    {
     "name": "stdout",
     "output_type": "stream",
     "text": [
      "The dataset has 10866 movie samples and 21 features\n"
     ]
    }
   ],
   "source": [
    "samples, features = movie_df.shape\n",
    "print('The dataset has {} movie samples and {} features'.format(samples, features))"
   ]
  },
  {
   "cell_type": "markdown",
   "id": "f99c5ca7",
   "metadata": {},
   "source": [
    "#### Summary statistics"
   ]
  },
  {
   "cell_type": "code",
   "execution_count": 45,
   "id": "f71b9216",
   "metadata": {},
   "outputs": [
    {
     "data": {
      "text/html": [
       "<div>\n",
       "<style scoped>\n",
       "    .dataframe tbody tr th:only-of-type {\n",
       "        vertical-align: middle;\n",
       "    }\n",
       "\n",
       "    .dataframe tbody tr th {\n",
       "        vertical-align: top;\n",
       "    }\n",
       "\n",
       "    .dataframe thead th {\n",
       "        text-align: right;\n",
       "    }\n",
       "</style>\n",
       "<table border=\"1\" class=\"dataframe\">\n",
       "  <thead>\n",
       "    <tr style=\"text-align: right;\">\n",
       "      <th></th>\n",
       "      <th>id</th>\n",
       "      <th>popularity</th>\n",
       "      <th>budget</th>\n",
       "      <th>revenue</th>\n",
       "      <th>runtime</th>\n",
       "      <th>vote_count</th>\n",
       "      <th>vote_average</th>\n",
       "      <th>release_year</th>\n",
       "      <th>budget_adj</th>\n",
       "      <th>revenue_adj</th>\n",
       "    </tr>\n",
       "  </thead>\n",
       "  <tbody>\n",
       "    <tr>\n",
       "      <th>count</th>\n",
       "      <td>10866.000000</td>\n",
       "      <td>10866.000000</td>\n",
       "      <td>1.086600e+04</td>\n",
       "      <td>1.086600e+04</td>\n",
       "      <td>10866.000000</td>\n",
       "      <td>10866.000000</td>\n",
       "      <td>10866.000000</td>\n",
       "      <td>10866.000000</td>\n",
       "      <td>1.086600e+04</td>\n",
       "      <td>1.086600e+04</td>\n",
       "    </tr>\n",
       "    <tr>\n",
       "      <th>mean</th>\n",
       "      <td>66064.177434</td>\n",
       "      <td>0.646441</td>\n",
       "      <td>1.462570e+07</td>\n",
       "      <td>3.982332e+07</td>\n",
       "      <td>102.070863</td>\n",
       "      <td>217.389748</td>\n",
       "      <td>5.974922</td>\n",
       "      <td>2001.322658</td>\n",
       "      <td>1.755104e+07</td>\n",
       "      <td>5.136436e+07</td>\n",
       "    </tr>\n",
       "    <tr>\n",
       "      <th>std</th>\n",
       "      <td>92130.136561</td>\n",
       "      <td>1.000185</td>\n",
       "      <td>3.091321e+07</td>\n",
       "      <td>1.170035e+08</td>\n",
       "      <td>31.381405</td>\n",
       "      <td>575.619058</td>\n",
       "      <td>0.935142</td>\n",
       "      <td>12.812941</td>\n",
       "      <td>3.430616e+07</td>\n",
       "      <td>1.446325e+08</td>\n",
       "    </tr>\n",
       "    <tr>\n",
       "      <th>min</th>\n",
       "      <td>5.000000</td>\n",
       "      <td>0.000065</td>\n",
       "      <td>0.000000e+00</td>\n",
       "      <td>0.000000e+00</td>\n",
       "      <td>0.000000</td>\n",
       "      <td>10.000000</td>\n",
       "      <td>1.500000</td>\n",
       "      <td>1960.000000</td>\n",
       "      <td>0.000000e+00</td>\n",
       "      <td>0.000000e+00</td>\n",
       "    </tr>\n",
       "    <tr>\n",
       "      <th>25%</th>\n",
       "      <td>10596.250000</td>\n",
       "      <td>0.207583</td>\n",
       "      <td>0.000000e+00</td>\n",
       "      <td>0.000000e+00</td>\n",
       "      <td>90.000000</td>\n",
       "      <td>17.000000</td>\n",
       "      <td>5.400000</td>\n",
       "      <td>1995.000000</td>\n",
       "      <td>0.000000e+00</td>\n",
       "      <td>0.000000e+00</td>\n",
       "    </tr>\n",
       "    <tr>\n",
       "      <th>50%</th>\n",
       "      <td>20669.000000</td>\n",
       "      <td>0.383856</td>\n",
       "      <td>0.000000e+00</td>\n",
       "      <td>0.000000e+00</td>\n",
       "      <td>99.000000</td>\n",
       "      <td>38.000000</td>\n",
       "      <td>6.000000</td>\n",
       "      <td>2006.000000</td>\n",
       "      <td>0.000000e+00</td>\n",
       "      <td>0.000000e+00</td>\n",
       "    </tr>\n",
       "    <tr>\n",
       "      <th>75%</th>\n",
       "      <td>75610.000000</td>\n",
       "      <td>0.713817</td>\n",
       "      <td>1.500000e+07</td>\n",
       "      <td>2.400000e+07</td>\n",
       "      <td>111.000000</td>\n",
       "      <td>145.750000</td>\n",
       "      <td>6.600000</td>\n",
       "      <td>2011.000000</td>\n",
       "      <td>2.085325e+07</td>\n",
       "      <td>3.369710e+07</td>\n",
       "    </tr>\n",
       "    <tr>\n",
       "      <th>max</th>\n",
       "      <td>417859.000000</td>\n",
       "      <td>32.985763</td>\n",
       "      <td>4.250000e+08</td>\n",
       "      <td>2.781506e+09</td>\n",
       "      <td>900.000000</td>\n",
       "      <td>9767.000000</td>\n",
       "      <td>9.200000</td>\n",
       "      <td>2015.000000</td>\n",
       "      <td>4.250000e+08</td>\n",
       "      <td>2.827124e+09</td>\n",
       "    </tr>\n",
       "  </tbody>\n",
       "</table>\n",
       "</div>"
      ],
      "text/plain": [
       "                  id    popularity        budget       revenue       runtime  \\\n",
       "count   10866.000000  10866.000000  1.086600e+04  1.086600e+04  10866.000000   \n",
       "mean    66064.177434      0.646441  1.462570e+07  3.982332e+07    102.070863   \n",
       "std     92130.136561      1.000185  3.091321e+07  1.170035e+08     31.381405   \n",
       "min         5.000000      0.000065  0.000000e+00  0.000000e+00      0.000000   \n",
       "25%     10596.250000      0.207583  0.000000e+00  0.000000e+00     90.000000   \n",
       "50%     20669.000000      0.383856  0.000000e+00  0.000000e+00     99.000000   \n",
       "75%     75610.000000      0.713817  1.500000e+07  2.400000e+07    111.000000   \n",
       "max    417859.000000     32.985763  4.250000e+08  2.781506e+09    900.000000   \n",
       "\n",
       "         vote_count  vote_average  release_year    budget_adj   revenue_adj  \n",
       "count  10866.000000  10866.000000  10866.000000  1.086600e+04  1.086600e+04  \n",
       "mean     217.389748      5.974922   2001.322658  1.755104e+07  5.136436e+07  \n",
       "std      575.619058      0.935142     12.812941  3.430616e+07  1.446325e+08  \n",
       "min       10.000000      1.500000   1960.000000  0.000000e+00  0.000000e+00  \n",
       "25%       17.000000      5.400000   1995.000000  0.000000e+00  0.000000e+00  \n",
       "50%       38.000000      6.000000   2006.000000  0.000000e+00  0.000000e+00  \n",
       "75%      145.750000      6.600000   2011.000000  2.085325e+07  3.369710e+07  \n",
       "max     9767.000000      9.200000   2015.000000  4.250000e+08  2.827124e+09  "
      ]
     },
     "execution_count": 45,
     "metadata": {},
     "output_type": "execute_result"
    }
   ],
   "source": [
    "movie_df.describe()"
   ]
  },
  {
   "cell_type": "markdown",
   "id": "4388467b",
   "metadata": {},
   "source": [
    "### some deductions from the summary decription\n",
    "- Most movies turn out to be profitable, althou some m\n",
    "- Most movies have an average runtime of <em>102 mins</em>\n",
    "- The dataset contains no details of movies released after 2015\n",
    " ##### Note:\n",
    "  ##### This is a summary descriptive statistics, and is not a subtitue for the required indepth analysis and conclusion"
   ]
  },
  {
   "cell_type": "markdown",
   "id": "404600f3",
   "metadata": {},
   "source": [
    "<a id='wrangling'></a>\n",
    "# Data Wrangling\n",
    "#### 1. Create a new dataframe(df) from a copy of the Movie_df\n",
    "#### 2. Drop duplicate movie samples\n",
    "#### 3. Add features relevant to the analysis"
   ]
  },
  {
   "cell_type": "markdown",
   "id": "d0eee798",
   "metadata": {},
   "source": [
    "##### we create a new dataframe using the columns relevant to our analysis\n",
    "\n",
    "    ['original_title','release_year','budget','revenue','budget_adj','revenue_adj']\n",
    "\n",
    "##### Other features are important but not with respect to our analysis"
   ]
  },
  {
   "cell_type": "markdown",
   "id": "f4403c47",
   "metadata": {},
   "source": [
    "### 1. create new dataframe from our old dataframe"
   ]
  },
  {
   "cell_type": "code",
   "execution_count": 46,
   "id": "03d6f26e",
   "metadata": {
    "scrolled": true
   },
   "outputs": [
    {
     "data": {
      "text/html": [
       "<div>\n",
       "<style scoped>\n",
       "    .dataframe tbody tr th:only-of-type {\n",
       "        vertical-align: middle;\n",
       "    }\n",
       "\n",
       "    .dataframe tbody tr th {\n",
       "        vertical-align: top;\n",
       "    }\n",
       "\n",
       "    .dataframe thead th {\n",
       "        text-align: right;\n",
       "    }\n",
       "</style>\n",
       "<table border=\"1\" class=\"dataframe\">\n",
       "  <thead>\n",
       "    <tr style=\"text-align: right;\">\n",
       "      <th></th>\n",
       "      <th>original_title</th>\n",
       "      <th>release_year</th>\n",
       "      <th>budget</th>\n",
       "      <th>revenue</th>\n",
       "      <th>budget_adj</th>\n",
       "      <th>revenue_adj</th>\n",
       "    </tr>\n",
       "  </thead>\n",
       "  <tbody>\n",
       "    <tr>\n",
       "      <th>0</th>\n",
       "      <td>Jurassic World</td>\n",
       "      <td>2015</td>\n",
       "      <td>150000000</td>\n",
       "      <td>1513528810</td>\n",
       "      <td>1.379999e+08</td>\n",
       "      <td>1.392446e+09</td>\n",
       "    </tr>\n",
       "    <tr>\n",
       "      <th>1</th>\n",
       "      <td>Mad Max: Fury Road</td>\n",
       "      <td>2015</td>\n",
       "      <td>150000000</td>\n",
       "      <td>378436354</td>\n",
       "      <td>1.379999e+08</td>\n",
       "      <td>3.481613e+08</td>\n",
       "    </tr>\n",
       "    <tr>\n",
       "      <th>2</th>\n",
       "      <td>Insurgent</td>\n",
       "      <td>2015</td>\n",
       "      <td>110000000</td>\n",
       "      <td>295238201</td>\n",
       "      <td>1.012000e+08</td>\n",
       "      <td>2.716190e+08</td>\n",
       "    </tr>\n",
       "    <tr>\n",
       "      <th>3</th>\n",
       "      <td>Star Wars: The Force Awakens</td>\n",
       "      <td>2015</td>\n",
       "      <td>200000000</td>\n",
       "      <td>2068178225</td>\n",
       "      <td>1.839999e+08</td>\n",
       "      <td>1.902723e+09</td>\n",
       "    </tr>\n",
       "    <tr>\n",
       "      <th>4</th>\n",
       "      <td>Furious 7</td>\n",
       "      <td>2015</td>\n",
       "      <td>190000000</td>\n",
       "      <td>1506249360</td>\n",
       "      <td>1.747999e+08</td>\n",
       "      <td>1.385749e+09</td>\n",
       "    </tr>\n",
       "  </tbody>\n",
       "</table>\n",
       "</div>"
      ],
      "text/plain": [
       "                 original_title  release_year     budget     revenue  \\\n",
       "0                Jurassic World          2015  150000000  1513528810   \n",
       "1            Mad Max: Fury Road          2015  150000000   378436354   \n",
       "2                     Insurgent          2015  110000000   295238201   \n",
       "3  Star Wars: The Force Awakens          2015  200000000  2068178225   \n",
       "4                     Furious 7          2015  190000000  1506249360   \n",
       "\n",
       "     budget_adj   revenue_adj  \n",
       "0  1.379999e+08  1.392446e+09  \n",
       "1  1.379999e+08  3.481613e+08  \n",
       "2  1.012000e+08  2.716190e+08  \n",
       "3  1.839999e+08  1.902723e+09  \n",
       "4  1.747999e+08  1.385749e+09  "
      ]
     },
     "execution_count": 46,
     "metadata": {},
     "output_type": "execute_result"
    }
   ],
   "source": [
    "cols_to_use = np.array(['original_title','release_year','budget','revenue','budget_adj','revenue_adj'])\n",
    "df = movie_df[cols_to_use].copy()\n",
    "df.head()"
   ]
  },
  {
   "cell_type": "code",
   "execution_count": 47,
   "id": "e7ea5a89",
   "metadata": {},
   "outputs": [
    {
     "data": {
      "text/html": [
       "<div>\n",
       "<style scoped>\n",
       "    .dataframe tbody tr th:only-of-type {\n",
       "        vertical-align: middle;\n",
       "    }\n",
       "\n",
       "    .dataframe tbody tr th {\n",
       "        vertical-align: top;\n",
       "    }\n",
       "\n",
       "    .dataframe thead th {\n",
       "        text-align: right;\n",
       "    }\n",
       "</style>\n",
       "<table border=\"1\" class=\"dataframe\">\n",
       "  <thead>\n",
       "    <tr style=\"text-align: right;\">\n",
       "      <th></th>\n",
       "      <th>release_year</th>\n",
       "      <th>budget</th>\n",
       "      <th>revenue</th>\n",
       "      <th>budget_adj</th>\n",
       "      <th>revenue_adj</th>\n",
       "    </tr>\n",
       "  </thead>\n",
       "  <tbody>\n",
       "    <tr>\n",
       "      <th>count</th>\n",
       "      <td>10866.000000</td>\n",
       "      <td>1.086600e+04</td>\n",
       "      <td>1.086600e+04</td>\n",
       "      <td>1.086600e+04</td>\n",
       "      <td>1.086600e+04</td>\n",
       "    </tr>\n",
       "    <tr>\n",
       "      <th>mean</th>\n",
       "      <td>2001.322658</td>\n",
       "      <td>1.462570e+07</td>\n",
       "      <td>3.982332e+07</td>\n",
       "      <td>1.755104e+07</td>\n",
       "      <td>5.136436e+07</td>\n",
       "    </tr>\n",
       "    <tr>\n",
       "      <th>std</th>\n",
       "      <td>12.812941</td>\n",
       "      <td>3.091321e+07</td>\n",
       "      <td>1.170035e+08</td>\n",
       "      <td>3.430616e+07</td>\n",
       "      <td>1.446325e+08</td>\n",
       "    </tr>\n",
       "    <tr>\n",
       "      <th>min</th>\n",
       "      <td>1960.000000</td>\n",
       "      <td>0.000000e+00</td>\n",
       "      <td>0.000000e+00</td>\n",
       "      <td>0.000000e+00</td>\n",
       "      <td>0.000000e+00</td>\n",
       "    </tr>\n",
       "    <tr>\n",
       "      <th>25%</th>\n",
       "      <td>1995.000000</td>\n",
       "      <td>0.000000e+00</td>\n",
       "      <td>0.000000e+00</td>\n",
       "      <td>0.000000e+00</td>\n",
       "      <td>0.000000e+00</td>\n",
       "    </tr>\n",
       "    <tr>\n",
       "      <th>50%</th>\n",
       "      <td>2006.000000</td>\n",
       "      <td>0.000000e+00</td>\n",
       "      <td>0.000000e+00</td>\n",
       "      <td>0.000000e+00</td>\n",
       "      <td>0.000000e+00</td>\n",
       "    </tr>\n",
       "    <tr>\n",
       "      <th>75%</th>\n",
       "      <td>2011.000000</td>\n",
       "      <td>1.500000e+07</td>\n",
       "      <td>2.400000e+07</td>\n",
       "      <td>2.085325e+07</td>\n",
       "      <td>3.369710e+07</td>\n",
       "    </tr>\n",
       "    <tr>\n",
       "      <th>max</th>\n",
       "      <td>2015.000000</td>\n",
       "      <td>4.250000e+08</td>\n",
       "      <td>2.781506e+09</td>\n",
       "      <td>4.250000e+08</td>\n",
       "      <td>2.827124e+09</td>\n",
       "    </tr>\n",
       "  </tbody>\n",
       "</table>\n",
       "</div>"
      ],
      "text/plain": [
       "       release_year        budget       revenue    budget_adj   revenue_adj\n",
       "count  10866.000000  1.086600e+04  1.086600e+04  1.086600e+04  1.086600e+04\n",
       "mean    2001.322658  1.462570e+07  3.982332e+07  1.755104e+07  5.136436e+07\n",
       "std       12.812941  3.091321e+07  1.170035e+08  3.430616e+07  1.446325e+08\n",
       "min     1960.000000  0.000000e+00  0.000000e+00  0.000000e+00  0.000000e+00\n",
       "25%     1995.000000  0.000000e+00  0.000000e+00  0.000000e+00  0.000000e+00\n",
       "50%     2006.000000  0.000000e+00  0.000000e+00  0.000000e+00  0.000000e+00\n",
       "75%     2011.000000  1.500000e+07  2.400000e+07  2.085325e+07  3.369710e+07\n",
       "max     2015.000000  4.250000e+08  2.781506e+09  4.250000e+08  2.827124e+09"
      ]
     },
     "execution_count": 47,
     "metadata": {},
     "output_type": "execute_result"
    }
   ],
   "source": [
    "df.describe()"
   ]
  },
  {
   "cell_type": "code",
   "execution_count": 48,
   "id": "d7d1b9af",
   "metadata": {
    "scrolled": true
   },
   "outputs": [
    {
     "name": "stdout",
     "output_type": "stream",
     "text": [
      "<class 'pandas.core.frame.DataFrame'>\n",
      "RangeIndex: 10866 entries, 0 to 10865\n",
      "Data columns (total 6 columns):\n",
      " #   Column          Non-Null Count  Dtype  \n",
      "---  ------          --------------  -----  \n",
      " 0   original_title  10866 non-null  object \n",
      " 1   release_year    10866 non-null  int64  \n",
      " 2   budget          10866 non-null  int64  \n",
      " 3   revenue         10866 non-null  int64  \n",
      " 4   budget_adj      10866 non-null  float64\n",
      " 5   revenue_adj     10866 non-null  float64\n",
      "dtypes: float64(2), int64(3), object(1)\n",
      "memory usage: 509.5+ KB\n"
     ]
    }
   ],
   "source": [
    "df.info()"
   ]
  },
  {
   "cell_type": "markdown",
   "id": "41fc7445",
   "metadata": {},
   "source": [
    "### clearly there are no empty cells in our new dataframe"
   ]
  },
  {
   "cell_type": "markdown",
   "id": "cbdca6ae",
   "metadata": {},
   "source": [
    "### 2. Drop duplicate movie samples"
   ]
  },
  {
   "cell_type": "code",
   "execution_count": 49,
   "id": "bea3fdd2",
   "metadata": {
    "scrolled": true
   },
   "outputs": [
    {
     "name": "stdout",
     "output_type": "stream",
     "text": [
      "The new tmdb dataset has 2 duplicated movie samples\n"
     ]
    }
   ],
   "source": [
    "print(\"The new tmdb dataset has {} duplicated movie samples\".format(df.duplicated().sum()))"
   ]
  },
  {
   "cell_type": "markdown",
   "id": "07afa384",
   "metadata": {},
   "source": [
    "#### We then drop duplicate rows(samples) keeping the first instance of their occurence."
   ]
  },
  {
   "cell_type": "code",
   "execution_count": 50,
   "id": "f422b756",
   "metadata": {},
   "outputs": [],
   "source": [
    "df.drop_duplicates(keep='first', inplace=True)"
   ]
  },
  {
   "cell_type": "markdown",
   "id": "06c070ee",
   "metadata": {},
   "source": [
    "##### Check for features with null values"
   ]
  },
  {
   "cell_type": "code",
   "execution_count": 51,
   "id": "fd66a2d6",
   "metadata": {
    "scrolled": true
   },
   "outputs": [
    {
     "data": {
      "text/plain": [
       "original_title    0\n",
       "release_year      0\n",
       "budget            0\n",
       "revenue           0\n",
       "budget_adj        0\n",
       "revenue_adj       0\n",
       "dtype: int64"
      ]
     },
     "execution_count": 51,
     "metadata": {},
     "output_type": "execute_result"
    }
   ],
   "source": [
    "df.isnull().sum()"
   ]
  },
  {
   "cell_type": "markdown",
   "id": "44d45f4d",
   "metadata": {},
   "source": [
    "##### clearly we have no features with missing entries in our extracted DataFrame"
   ]
  },
  {
   "cell_type": "markdown",
   "id": "ae6e4845",
   "metadata": {},
   "source": [
    "### 3. Add feature(s) relevant to our analysis."
   ]
  },
  {
   "cell_type": "code",
   "execution_count": 52,
   "id": "9184d0d3",
   "metadata": {
    "scrolled": false
   },
   "outputs": [
    {
     "data": {
      "text/html": [
       "<div>\n",
       "<style scoped>\n",
       "    .dataframe tbody tr th:only-of-type {\n",
       "        vertical-align: middle;\n",
       "    }\n",
       "\n",
       "    .dataframe tbody tr th {\n",
       "        vertical-align: top;\n",
       "    }\n",
       "\n",
       "    .dataframe thead th {\n",
       "        text-align: right;\n",
       "    }\n",
       "</style>\n",
       "<table border=\"1\" class=\"dataframe\">\n",
       "  <thead>\n",
       "    <tr style=\"text-align: right;\">\n",
       "      <th></th>\n",
       "      <th>original_title</th>\n",
       "      <th>release_year</th>\n",
       "      <th>budget</th>\n",
       "      <th>revenue</th>\n",
       "      <th>profit</th>\n",
       "      <th>budget_adj</th>\n",
       "      <th>revenue_adj</th>\n",
       "      <th>profit_adj</th>\n",
       "    </tr>\n",
       "  </thead>\n",
       "  <tbody>\n",
       "    <tr>\n",
       "      <th>0</th>\n",
       "      <td>Jurassic World</td>\n",
       "      <td>2015</td>\n",
       "      <td>150000000</td>\n",
       "      <td>1513528810</td>\n",
       "      <td>1363528810</td>\n",
       "      <td>1.379999e+08</td>\n",
       "      <td>1.392446e+09</td>\n",
       "      <td>1.254446e+09</td>\n",
       "    </tr>\n",
       "    <tr>\n",
       "      <th>1</th>\n",
       "      <td>Mad Max: Fury Road</td>\n",
       "      <td>2015</td>\n",
       "      <td>150000000</td>\n",
       "      <td>378436354</td>\n",
       "      <td>228436354</td>\n",
       "      <td>1.379999e+08</td>\n",
       "      <td>3.481613e+08</td>\n",
       "      <td>2.101614e+08</td>\n",
       "    </tr>\n",
       "    <tr>\n",
       "      <th>2</th>\n",
       "      <td>Insurgent</td>\n",
       "      <td>2015</td>\n",
       "      <td>110000000</td>\n",
       "      <td>295238201</td>\n",
       "      <td>185238201</td>\n",
       "      <td>1.012000e+08</td>\n",
       "      <td>2.716190e+08</td>\n",
       "      <td>1.704191e+08</td>\n",
       "    </tr>\n",
       "    <tr>\n",
       "      <th>3</th>\n",
       "      <td>Star Wars: The Force Awakens</td>\n",
       "      <td>2015</td>\n",
       "      <td>200000000</td>\n",
       "      <td>2068178225</td>\n",
       "      <td>1868178225</td>\n",
       "      <td>1.839999e+08</td>\n",
       "      <td>1.902723e+09</td>\n",
       "      <td>1.718723e+09</td>\n",
       "    </tr>\n",
       "    <tr>\n",
       "      <th>4</th>\n",
       "      <td>Furious 7</td>\n",
       "      <td>2015</td>\n",
       "      <td>190000000</td>\n",
       "      <td>1506249360</td>\n",
       "      <td>1316249360</td>\n",
       "      <td>1.747999e+08</td>\n",
       "      <td>1.385749e+09</td>\n",
       "      <td>1.210949e+09</td>\n",
       "    </tr>\n",
       "  </tbody>\n",
       "</table>\n",
       "</div>"
      ],
      "text/plain": [
       "                 original_title  release_year     budget     revenue  \\\n",
       "0                Jurassic World          2015  150000000  1513528810   \n",
       "1            Mad Max: Fury Road          2015  150000000   378436354   \n",
       "2                     Insurgent          2015  110000000   295238201   \n",
       "3  Star Wars: The Force Awakens          2015  200000000  2068178225   \n",
       "4                     Furious 7          2015  190000000  1506249360   \n",
       "\n",
       "       profit    budget_adj   revenue_adj    profit_adj  \n",
       "0  1363528810  1.379999e+08  1.392446e+09  1.254446e+09  \n",
       "1   228436354  1.379999e+08  3.481613e+08  2.101614e+08  \n",
       "2   185238201  1.012000e+08  2.716190e+08  1.704191e+08  \n",
       "3  1868178225  1.839999e+08  1.902723e+09  1.718723e+09  \n",
       "4  1316249360  1.747999e+08  1.385749e+09  1.210949e+09  "
      ]
     },
     "execution_count": 52,
     "metadata": {},
     "output_type": "execute_result"
    }
   ],
   "source": [
    "df.insert(4,'profit',df['revenue']-df['budget'])\n",
    "df.insert(7,'profit_adj',df['revenue_adj']-df['budget_adj'])\n",
    "df.head()"
   ]
  },
  {
   "cell_type": "code",
   "execution_count": 53,
   "id": "d68b8209",
   "metadata": {
    "scrolled": false
   },
   "outputs": [
    {
     "data": {
      "text/html": [
       "<div>\n",
       "<style scoped>\n",
       "    .dataframe tbody tr th:only-of-type {\n",
       "        vertical-align: middle;\n",
       "    }\n",
       "\n",
       "    .dataframe tbody tr th {\n",
       "        vertical-align: top;\n",
       "    }\n",
       "\n",
       "    .dataframe thead th {\n",
       "        text-align: right;\n",
       "    }\n",
       "</style>\n",
       "<table border=\"1\" class=\"dataframe\">\n",
       "  <thead>\n",
       "    <tr style=\"text-align: right;\">\n",
       "      <th></th>\n",
       "      <th>release_year</th>\n",
       "      <th>budget</th>\n",
       "      <th>revenue</th>\n",
       "      <th>profit</th>\n",
       "      <th>budget_adj</th>\n",
       "      <th>revenue_adj</th>\n",
       "      <th>profit_adj</th>\n",
       "    </tr>\n",
       "  </thead>\n",
       "  <tbody>\n",
       "    <tr>\n",
       "      <th>count</th>\n",
       "      <td>10864.000000</td>\n",
       "      <td>1.086400e+04</td>\n",
       "      <td>1.086400e+04</td>\n",
       "      <td>1.086400e+04</td>\n",
       "      <td>1.086400e+04</td>\n",
       "      <td>1.086400e+04</td>\n",
       "      <td>1.086400e+04</td>\n",
       "    </tr>\n",
       "    <tr>\n",
       "      <th>mean</th>\n",
       "      <td>2001.320784</td>\n",
       "      <td>1.462563e+07</td>\n",
       "      <td>3.983056e+07</td>\n",
       "      <td>2.520493e+07</td>\n",
       "      <td>1.755151e+07</td>\n",
       "      <td>5.137373e+07</td>\n",
       "      <td>3.382222e+07</td>\n",
       "    </tr>\n",
       "    <tr>\n",
       "      <th>std</th>\n",
       "      <td>12.813360</td>\n",
       "      <td>3.091539e+07</td>\n",
       "      <td>1.170130e+08</td>\n",
       "      <td>9.659517e+07</td>\n",
       "      <td>3.430869e+07</td>\n",
       "      <td>1.446442e+08</td>\n",
       "      <td>1.252247e+08</td>\n",
       "    </tr>\n",
       "    <tr>\n",
       "      <th>min</th>\n",
       "      <td>1960.000000</td>\n",
       "      <td>0.000000e+00</td>\n",
       "      <td>0.000000e+00</td>\n",
       "      <td>-4.139124e+08</td>\n",
       "      <td>0.000000e+00</td>\n",
       "      <td>0.000000e+00</td>\n",
       "      <td>-4.139124e+08</td>\n",
       "    </tr>\n",
       "    <tr>\n",
       "      <th>25%</th>\n",
       "      <td>1995.000000</td>\n",
       "      <td>0.000000e+00</td>\n",
       "      <td>0.000000e+00</td>\n",
       "      <td>0.000000e+00</td>\n",
       "      <td>0.000000e+00</td>\n",
       "      <td>0.000000e+00</td>\n",
       "      <td>0.000000e+00</td>\n",
       "    </tr>\n",
       "    <tr>\n",
       "      <th>50%</th>\n",
       "      <td>2006.000000</td>\n",
       "      <td>0.000000e+00</td>\n",
       "      <td>0.000000e+00</td>\n",
       "      <td>0.000000e+00</td>\n",
       "      <td>0.000000e+00</td>\n",
       "      <td>0.000000e+00</td>\n",
       "      <td>0.000000e+00</td>\n",
       "    </tr>\n",
       "    <tr>\n",
       "      <th>75%</th>\n",
       "      <td>2011.000000</td>\n",
       "      <td>1.500000e+07</td>\n",
       "      <td>2.400183e+07</td>\n",
       "      <td>9.094340e+06</td>\n",
       "      <td>2.085325e+07</td>\n",
       "      <td>3.370925e+07</td>\n",
       "      <td>1.293994e+07</td>\n",
       "    </tr>\n",
       "    <tr>\n",
       "      <th>max</th>\n",
       "      <td>2015.000000</td>\n",
       "      <td>4.250000e+08</td>\n",
       "      <td>2.781506e+09</td>\n",
       "      <td>2.544506e+09</td>\n",
       "      <td>4.250000e+08</td>\n",
       "      <td>2.827124e+09</td>\n",
       "      <td>2.750137e+09</td>\n",
       "    </tr>\n",
       "  </tbody>\n",
       "</table>\n",
       "</div>"
      ],
      "text/plain": [
       "       release_year        budget       revenue        profit    budget_adj  \\\n",
       "count  10864.000000  1.086400e+04  1.086400e+04  1.086400e+04  1.086400e+04   \n",
       "mean    2001.320784  1.462563e+07  3.983056e+07  2.520493e+07  1.755151e+07   \n",
       "std       12.813360  3.091539e+07  1.170130e+08  9.659517e+07  3.430869e+07   \n",
       "min     1960.000000  0.000000e+00  0.000000e+00 -4.139124e+08  0.000000e+00   \n",
       "25%     1995.000000  0.000000e+00  0.000000e+00  0.000000e+00  0.000000e+00   \n",
       "50%     2006.000000  0.000000e+00  0.000000e+00  0.000000e+00  0.000000e+00   \n",
       "75%     2011.000000  1.500000e+07  2.400183e+07  9.094340e+06  2.085325e+07   \n",
       "max     2015.000000  4.250000e+08  2.781506e+09  2.544506e+09  4.250000e+08   \n",
       "\n",
       "        revenue_adj    profit_adj  \n",
       "count  1.086400e+04  1.086400e+04  \n",
       "mean   5.137373e+07  3.382222e+07  \n",
       "std    1.446442e+08  1.252247e+08  \n",
       "min    0.000000e+00 -4.139124e+08  \n",
       "25%    0.000000e+00  0.000000e+00  \n",
       "50%    0.000000e+00  0.000000e+00  \n",
       "75%    3.370925e+07  1.293994e+07  \n",
       "max    2.827124e+09  2.750137e+09  "
      ]
     },
     "execution_count": 53,
     "metadata": {},
     "output_type": "execute_result"
    }
   ],
   "source": [
    "df.describe()"
   ]
  },
  {
   "cell_type": "code",
   "execution_count": 54,
   "id": "6ad3662e",
   "metadata": {
    "scrolled": false
   },
   "outputs": [
    {
     "data": {
      "text/plain": [
       "array([[<AxesSubplot:title={'center':'release_year'}>,\n",
       "        <AxesSubplot:title={'center':'budget'}>,\n",
       "        <AxesSubplot:title={'center':'revenue'}>],\n",
       "       [<AxesSubplot:title={'center':'profit'}>,\n",
       "        <AxesSubplot:title={'center':'budget_adj'}>,\n",
       "        <AxesSubplot:title={'center':'revenue_adj'}>],\n",
       "       [<AxesSubplot:title={'center':'profit_adj'}>, <AxesSubplot:>,\n",
       "        <AxesSubplot:>]], dtype=object)"
      ]
     },
     "execution_count": 54,
     "metadata": {},
     "output_type": "execute_result"
    },
    {
     "data": {
      "image/png": "[encoded data removed]",
      "text/plain": [
       "<Figure size 1080x1080 with 9 Axes>"
      ]
     },
     "metadata": {
      "needs_background": "light"
     },
     "output_type": "display_data"
    }
   ],
   "source": [
    "df.hist(figsize=(15,15))"
   ]
  },
  {
   "cell_type": "markdown",
   "id": "29ed777a",
   "metadata": {},
   "source": [
    "### With the exception of the release year, all other features are skewed to the right.\n",
    "- Statistically, this implies that the large values occur with a low frequency.\n",
    "- Thus we can say that Movies with high budget, revenue and profit occur with very low frequencies.\n",
    "- A right skewed data occurs due to peak values at initial stage which then decline with time."
   ]
  },
  {
   "cell_type": "code",
   "execution_count": 55,
   "id": "c78a7cde",
   "metadata": {
    "scrolled": false
   },
   "outputs": [
    {
     "data": {
      "text/plain": [
       "<AxesSubplot:>"
      ]
     },
     "execution_count": 55,
     "metadata": {},
     "output_type": "execute_result"
    },
    {
     "data": {
      "image/png": "[encoded data removed]",
      "text/plain": [
       "<Figure size 1080x504 with 1 Axes>"
      ]
     },
     "metadata": {
      "needs_background": "light"
     },
     "output_type": "display_data"
    }
   ],
   "source": [
    "df.boxplot(figsize=(15,7))"
   ]
  },
  {
   "cell_type": "markdown",
   "id": "0efdd996",
   "metadata": {},
   "source": [
    "- The movie industry is a purely commercial structure (low budget, high profit)\n",
    "- We can seee possible outliers at figures of 2.5e9 ~> 2.5 billion Dollars. (That's huge:))\n",
    "- We can also see some losses with an outlier clsose to -0.5e9 ~> 500 million Dollars (a great loss :()\n",
    "- We can also see that most movies make reasonable returns on the invested capital.\n",
    "- Lastly, very few movies record losses."
   ]
  },
  {
   "cell_type": "markdown",
   "id": "639f32bf",
   "metadata": {},
   "source": [
    "<a id='eda'></a>\n",
    "# Exploratory Data Analysis"
   ]
  },
  {
   "cell_type": "markdown",
   "id": "40ad3bcc",
   "metadata": {},
   "source": [
    "### function to compute data and make our plots"
   ]
  },
  {
   "cell_type": "code",
   "execution_count": 56,
   "id": "ad1079c5",
   "metadata": {},
   "outputs": [
    {
     "data": {
      "text/plain": [
       "'\\ndef feature_info_plot(col_name):\\n    #data_setup\\n    Title = f\"yearly {col_name}\"\\n    temp_data = df.groupby(\\'release_year\\')[col_name].sum()\\n    \\n    #plot_face\\n    plt.figure(figsize=(15,5))\\n    plt.plot(temp_data)\\n    plt.title(Title)\\n    plt.xlabel(\\'year\\')\\n    plt.ylabel(col_name)\\n    plt.show()\\n    '"
      ]
     },
     "execution_count": 56,
     "metadata": {},
     "output_type": "execute_result"
    }
   ],
   "source": [
    "'''\n",
    "def feature_info_plot(col_name):\n",
    "    #data_setup\n",
    "    Title = f\"yearly {col_name}\"\n",
    "    temp_data = df.groupby('release_year')[col_name].sum()\n",
    "    \n",
    "    #plot_face\n",
    "    plt.figure(figsize=(15,5))\n",
    "    plt.plot(temp_data)\n",
    "    plt.title(Title)\n",
    "    plt.xlabel('year')\n",
    "    plt.ylabel(col_name)\n",
    "    plt.show()\n",
    "    '''"
   ]
  },
  {
   "cell_type": "markdown",
   "id": "d8888730",
   "metadata": {},
   "source": [
    "### function for max and min values"
   ]
  },
  {
   "cell_type": "code",
   "execution_count": 57,
   "id": "246c90b3",
   "metadata": {},
   "outputs": [
    {
     "data": {
      "text/plain": [
       "'\\ndef high_and_low(col_name):\\n    #for highest earned profit\\n    high= df[col_name].idxmax()\\n    high_details=pd.DataFrame(df.loc[high])\\n    \\n    #for lowest earned profit\\n    low= df[col_name].idxmin()\\n    low_details=pd.DataFrame(df.loc[low])\\n    \\n    #collectin data in one place\\n    info=pd.concat([high_details, low_details], axis=1)\\n    \\n    return info\\n'"
      ]
     },
     "execution_count": 57,
     "metadata": {},
     "output_type": "execute_result"
    }
   ],
   "source": [
    "'''\n",
    "def high_and_low(col_name):\n",
    "    #for highest earned profit\n",
    "    high= df[col_name].idxmax()\n",
    "    high_details=pd.DataFrame(df.loc[high])\n",
    "    \n",
    "    #for lowest earned profit\n",
    "    low= df[col_name].idxmin()\n",
    "    low_details=pd.DataFrame(df.loc[low])\n",
    "    \n",
    "    #collectin data in one place\n",
    "    info=pd.concat([high_details, low_details], axis=1)\n",
    "    \n",
    "    return info\n",
    "'''"
   ]
  },
  {
   "cell_type": "markdown",
   "id": "121894f2",
   "metadata": {},
   "source": [
    "### function for line of best fit"
   ]
  },
  {
   "cell_type": "code",
   "execution_count": 58,
   "id": "3976b968",
   "metadata": {},
   "outputs": [
    {
     "data": {
      "text/plain": [
       "'\\ndef plot_best_fit(col_name):\\n    #data setup\\n    Title = f\"yearly {col_name}\"\\n    temp_data = df.groupby(\\'release_year\\')[col_name].sum()\\n    pds = pd.Series(temp_data)\\n    years = np.array(pds.index.values)\\n    yearly_values = np.array([pds[i] for i in years])\\n    x,y = years, yearly_values\\n    \\n    #gradient and intercept\\n    m,c = np.polyfit(x, y, 1)\\n    \\n    #plot of best fit\\n    plt.figure(figsize=(15,5))\\n    plt.plot(x,y,\\'*\\')\\n    plt.plot(x, m*x + c)\\n    plt.title(Title)\\n    plt.xlabel(\\'year\\')\\n    plt.ylabel(col_name)\\n    plt.show()\\n    '"
      ]
     },
     "execution_count": 58,
     "metadata": {},
     "output_type": "execute_result"
    }
   ],
   "source": [
    "'''\n",
    "def plot_best_fit(col_name):\n",
    "    #data setup\n",
    "    Title = f\"yearly {col_name}\"\n",
    "    temp_data = df.groupby('release_year')[col_name].sum()\n",
    "    pds = pd.Series(temp_data)\n",
    "    years = np.array(pds.index.values)\n",
    "    yearly_values = np.array([pds[i] for i in years])\n",
    "    x,y = years, yearly_values\n",
    "    \n",
    "    #gradient and intercept\n",
    "    m,c = np.polyfit(x, y, 1)\n",
    "    \n",
    "    #plot of best fit\n",
    "    plt.figure(figsize=(15,5))\n",
    "    plt.plot(x,y,'*')\n",
    "    plt.plot(x, m*x + c)\n",
    "    plt.title(Title)\n",
    "    plt.xlabel('year')\n",
    "    plt.ylabel(col_name)\n",
    "    plt.show()\n",
    "    '''"
   ]
  },
  {
   "cell_type": "markdown",
   "id": "5345220f",
   "metadata": {},
   "source": [
    "#### Function for 2 variable correlation"
   ]
  },
  {
   "cell_type": "code",
   "execution_count": 59,
   "id": "b6e0d27c",
   "metadata": {},
   "outputs": [
    {
     "data": {
      "text/plain": [
       "\"'\\ndef corr_plot(col1, col2):\\n    df.plot(x=col1, y=col2, kind='scatter')\\n    \""
      ]
     },
     "execution_count": 59,
     "metadata": {},
     "output_type": "execute_result"
    }
   ],
   "source": [
    "''''\n",
    "def corr_plot(col1, col2):\n",
    "    df.plot(x=col1, y=col2, kind='scatter')\n",
    "    '''"
   ]
  },
  {
   "cell_type": "markdown",
   "id": "f1e2ad40",
   "metadata": {},
   "source": [
    "### Q1. How has the cost of movie production changed over the years?"
   ]
  },
  {
   "cell_type": "markdown",
   "id": "d224a2aa",
   "metadata": {},
   "source": [
    "<strong>Note</strong>: The Budget is the overhead cost of movie production."
   ]
  },
  {
   "cell_type": "markdown",
   "id": "29d32387",
   "metadata": {},
   "source": [
    "###### we plot for yearly budget adjusted/unadjusted"
   ]
  },
  {
   "cell_type": "code",
   "execution_count": 60,
   "id": "b6dd7492",
   "metadata": {
    "scrolled": false
   },
   "outputs": [
    {
     "ename": "NameError",
     "evalue": "name 'df' is not defined",
     "output_type": "error",
     "traceback": [
      "\u001b[0;31m---------------------------------------------------------------------------\u001b[0m",
      "\u001b[0;31mNameError\u001b[0m                                 Traceback (most recent call last)",
      "Input \u001b[0;32mIn [60]\u001b[0m, in \u001b[0;36m<cell line: 1>\u001b[0;34m()\u001b[0m\n\u001b[0;32m----> 1\u001b[0m \u001b[43mfeature_info_plot\u001b[49m\u001b[43m(\u001b[49m\u001b[38;5;124;43m'\u001b[39;49m\u001b[38;5;124;43mbudget\u001b[39;49m\u001b[38;5;124;43m'\u001b[39;49m\u001b[43m)\u001b[49m\n",
      "File \u001b[0;32m~/Desktop/DEV/virtual_envs/ALX-T/project/TMDB/submission/Udacity_TMDB_project/TMDb.py:15\u001b[0m, in \u001b[0;36mfeature_info_plot\u001b[0;34m(col_name)\u001b[0m\n\u001b[1;32m     13\u001b[0m \n\u001b[1;32m     14\u001b[0m def feature_info_plot(col_name):\n\u001b[0;32m---> 15\u001b[0m     #data_setup\n\u001b[1;32m     16\u001b[0m     Title = f\"yearly {col_name}\"\n\u001b[1;32m     17\u001b[0m     temp_data = df.groupby('release_year')[col_name].sum()\n",
      "\u001b[0;31mNameError\u001b[0m: name 'df' is not defined"
     ]
    }
   ],
   "source": [
    "feature_info_plot('budget')"
   ]
  },
  {
   "cell_type": "markdown",
   "id": "33fe322c",
   "metadata": {},
   "source": [
    "##### This shows a a cyclical structure with a an increasing trend"
   ]
  },
  {
   "cell_type": "code",
   "execution_count": null,
   "id": "f512c329",
   "metadata": {
    "scrolled": false
   },
   "outputs": [],
   "source": [
    "feature_info_plot('budget_adj')"
   ]
  },
  {
   "cell_type": "markdown",
   "id": "f481f6fe",
   "metadata": {},
   "source": [
    "###### budget plot of best fit"
   ]
  },
  {
   "cell_type": "code",
   "execution_count": null,
   "id": "c661bfcf",
   "metadata": {
    "scrolled": true
   },
   "outputs": [],
   "source": [
    "plot_best_fit('budget_adj')"
   ]
  },
  {
   "cell_type": "markdown",
   "id": "b867c538",
   "metadata": {},
   "source": [
    "###### from the plot above, we see a cyclical pattern with an increase year after year"
   ]
  },
  {
   "cell_type": "code",
   "execution_count": null,
   "id": "77632d27",
   "metadata": {
    "scrolled": true
   },
   "outputs": [],
   "source": [
    "corr_plot('budget','budget_adj')"
   ]
  },
  {
   "cell_type": "markdown",
   "id": "2df04900",
   "metadata": {},
   "source": [
    " ###### inflation has a significant effect on budget"
   ]
  },
  {
   "cell_type": "code",
   "execution_count": null,
   "id": "49c391d4",
   "metadata": {
    "scrolled": true
   },
   "outputs": [],
   "source": [
    "pd.concat([high_and_low('budget'), high_and_low('budget_adj')], axis=1)"
   ]
  },
  {
   "cell_type": "markdown",
   "id": "f780e268",
   "metadata": {},
   "source": [
    "###### For the adjusted and unadjusted values\n",
    "- The movie with the highest budget is <strong>The Warriors Way</strong>\n",
    "- The movie with the lowest budget is <strong>Mr Holmes</strong>"
   ]
  },
  {
   "cell_type": "markdown",
   "id": "bdfe0fbb",
   "metadata": {},
   "source": [
    "### Q2. How has revenue from movie sales and publicity changed over the the years"
   ]
  },
  {
   "cell_type": "markdown",
   "id": "77aaa7ec",
   "metadata": {},
   "source": [
    "###### plot for yearly revenue unadjusted/unadjusted"
   ]
  },
  {
   "cell_type": "code",
   "execution_count": null,
   "id": "32e2da9e",
   "metadata": {
    "scrolled": true
   },
   "outputs": [],
   "source": [
    "feature_info_plot('revenue')"
   ]
  },
  {
   "cell_type": "markdown",
   "id": "68c7fe31",
   "metadata": {},
   "source": [
    "###### This indicates an increasing trend"
   ]
  },
  {
   "cell_type": "code",
   "execution_count": null,
   "id": "6dbdcba5",
   "metadata": {
    "scrolled": false
   },
   "outputs": [],
   "source": [
    "feature_info_plot('revenue_adj')"
   ]
  },
  {
   "cell_type": "markdown",
   "id": "b71c32c0",
   "metadata": {},
   "source": [
    "###### This indicates an increasing trend"
   ]
  },
  {
   "cell_type": "markdown",
   "id": "9e2d556c",
   "metadata": {},
   "source": [
    "##### we plot for best fit"
   ]
  },
  {
   "cell_type": "code",
   "execution_count": null,
   "id": "a7a040c9",
   "metadata": {
    "scrolled": false
   },
   "outputs": [],
   "source": [
    "plot_best_fit('revenue_adj')"
   ]
  },
  {
   "cell_type": "markdown",
   "id": "f9f86cbb",
   "metadata": {},
   "source": [
    "###### From the above plot, we see that despite short-term seasonality, revenue continues to rise year after year"
   ]
  },
  {
   "cell_type": "code",
   "execution_count": null,
   "id": "ae2b439e",
   "metadata": {
    "scrolled": true
   },
   "outputs": [],
   "source": [
    "corr_plot('revenue','revenue_adj')"
   ]
  },
  {
   "cell_type": "markdown",
   "id": "d22ccf36",
   "metadata": {},
   "source": [
    "###### Inflation has a significant effect on revenue"
   ]
  },
  {
   "cell_type": "code",
   "execution_count": null,
   "id": "5f161b94",
   "metadata": {
    "scrolled": true
   },
   "outputs": [],
   "source": [
    "pd.concat([high_and_low('revenue'), high_and_low('revenue_adj')], axis=1)"
   ]
  },
  {
   "cell_type": "markdown",
   "id": "59ffa85a",
   "metadata": {},
   "source": [
    "###### For the uadjusted and unadjusted values\n",
    "- The movie with the highest revenue is <strong>Avatar</strong> ~> 2.8 billion Dollars\n",
    "- The movie with the lowest revenue is <strong>Wild Card</strong> ~> 0.0 dollars"
   ]
  },
  {
   "cell_type": "markdown",
   "id": "53512188",
   "metadata": {},
   "source": [
    "### Q3. How Profitable has movie production been over the years."
   ]
  },
  {
   "cell_type": "markdown",
   "id": "97442b30",
   "metadata": {},
   "source": [
    "###### plots for profit values unadjusted"
   ]
  },
  {
   "cell_type": "code",
   "execution_count": null,
   "id": "8c3ae5c3",
   "metadata": {
    "scrolled": true
   },
   "outputs": [],
   "source": [
    "feature_info_plot('profit')"
   ]
  },
  {
   "cell_type": "markdown",
   "id": "cec69f61",
   "metadata": {},
   "source": [
    "##### The profit has an increasing trend"
   ]
  },
  {
   "cell_type": "code",
   "execution_count": null,
   "id": "75ebfb5d",
   "metadata": {
    "scrolled": true
   },
   "outputs": [],
   "source": [
    "feature_info_plot('profit_adj')"
   ]
  },
  {
   "cell_type": "markdown",
   "id": "b68c5943",
   "metadata": {},
   "source": [
    "##### The fluctuation indicates a seasonal increase/decrease in the cumulative profit for athet year and NOT a loss"
   ]
  },
  {
   "cell_type": "markdown",
   "id": "4ecb0730",
   "metadata": {},
   "source": [
    "###### profit plot of best fit"
   ]
  },
  {
   "cell_type": "code",
   "execution_count": null,
   "id": "c07a98d8",
   "metadata": {
    "scrolled": true
   },
   "outputs": [],
   "source": [
    "plot_best_fit('profit_adj')"
   ]
  },
  {
   "cell_type": "markdown",
   "id": "af9c55ee",
   "metadata": {},
   "source": [
    "###### From the plot above, we see that profit continues to rise year after year"
   ]
  },
  {
   "cell_type": "code",
   "execution_count": null,
   "id": "277abf72",
   "metadata": {
    "scrolled": true
   },
   "outputs": [],
   "source": [
    "corr_plot('profit','profit_adj')"
   ]
  },
  {
   "cell_type": "markdown",
   "id": "5a82f66d",
   "metadata": {},
   "source": [
    "###### Inflation has a significant effect on profit"
   ]
  },
  {
   "cell_type": "code",
   "execution_count": null,
   "id": "8f9607ef",
   "metadata": {
    "scrolled": false
   },
   "outputs": [],
   "source": [
    "pd.concat([high_and_low('profit'), high_and_low('profit_adj')], axis=1)"
   ]
  },
  {
   "cell_type": "markdown",
   "id": "d8a42819",
   "metadata": {},
   "source": [
    "###### For the unadjusted values\n",
    "- The movie with the highest profit is <strong>Avatar</strong> ~> 2.5 billion Dollars\n",
    "- The movie with the lowest profit is <strong>The Warrior's Way</strong> ~> -414 million Dollars\n",
    "\n",
    "###### For the adjusted values\n",
    "- The movie with the highest profit is <strong>Star Wars</strong> ~> 2.7 billion Dollars\n",
    "- The movie with the lowest profit is <strong>The Warrior's Way</strong> -414 million Dollars"
   ]
  },
  {
   "cell_type": "code",
   "execution_count": null,
   "id": "4d7f6ea9",
   "metadata": {
    "scrolled": true
   },
   "outputs": [],
   "source": [
    "df.plot(x='budget',y='revenue',kind='scatter')"
   ]
  },
  {
   "cell_type": "markdown",
   "id": "a5d50b51",
   "metadata": {},
   "source": [
    "##### This indicates mild correlation between budget and profit thus we cannot conclude that budget affects profit"
   ]
  },
  {
   "cell_type": "code",
   "execution_count": null,
   "id": "57e6ec7b",
   "metadata": {
    "scrolled": true
   },
   "outputs": [],
   "source": [
    "corr_plot('revenue','profit')"
   ]
  },
  {
   "cell_type": "markdown",
   "id": "a5aaa9b0",
   "metadata": {},
   "source": [
    "###### We can see that revenue is a good indicator of profit. Thus high revenue == high profit and vice versa..."
   ]
  },
  {
   "cell_type": "code",
   "execution_count": null,
   "id": "50acddf3",
   "metadata": {
    "scrolled": true
   },
   "outputs": [],
   "source": [
    "corr_plot('budget','profit_adj')"
   ]
  },
  {
   "cell_type": "markdown",
   "id": "ef7e3007",
   "metadata": {},
   "source": [
    "###### There is no clear indication of inflation affecting profit"
   ]
  },
  {
   "cell_type": "markdown",
   "id": "b5578fb6",
   "metadata": {},
   "source": [
    "# Conculusions\n",
    "\n",
    "#### 1. Budget\n",
    "- There was a sharp increase in cost of movie production from te early 1990s and peaked in the year 2009-2010 and then begins to decline.\n",
    "- The rising cost of movie production between the 1990s and the year 2010 could be attributed to the use of <em>state of the art technological equipments</em> in movie oroduction.\n",
    "- The decline from the year 2010 could be attributed to increased adoption which has cut down the required manpower, thereby reducing the overall budget.\n",
    "\n",
    "##### 2. Revenue\n",
    "- Movie revenue has seen an almost steady increase since the birth of movie production\n",
    "- Inflation has had little effect on Movie Revenue.\n",
    "- This shows growing interest in viewership.\n",
    "\n",
    "##### 3. Profit\n",
    "- The overall profit shows some seasonality but has a summarily profitable trend\n",
    "\n",
    "- from the high and low dataframes, we can see that a movie budget is not always an indicator high revenue or profit \n",
    "\n",
    "#### Financial advice\n",
    "- For an investor who wants to know if an investments in the movie industry is a worthy investment in the longterm, my answer is this <em>since there is no significant difference in the adjusted and axctual values of the budget, revenue, and profit, the data at hand that the movie Industry is investment worthy</em>."
   ]
  },
  {
   "cell_type": "markdown",
   "id": "cb049d4a",
   "metadata": {},
   "source": [
    "<a id='limitation'></a>\n",
    "# Limitations"
   ]
  },
  {
   "cell_type": "markdown",
   "id": "fe21a565",
   "metadata": {},
   "source": [
    "###### Though this analyis has been well conducted with all neccasry interpretations and visualisations, \n",
    "- Since this analysis was conducted in the year 2022, the adjusted values should have been that of 2022 instead.\n",
    "- Despite significant effect of inflation on each feature, there is no clear indication of inflation affecting profit so we cannot conclude that the Movie industry is worth investing into for a longterm\n",
    " - <strong>NOTE:</strong>This is not to contradict the financial recommendation earlier stated"
   ]
  }
 ],
 "metadata": {
  "kernelspec": {
   "display_name": "Python 3 (ipykernel)",
   "language": "python",
   "name": "python3"
  },
  "language_info": {
   "codemirror_mode": {
    "name": "ipython",
    "version": 3
   },
   "file_extension": ".py",
   "mimetype": "text/x-python",
   "name": "python",
   "nbconvert_exporter": "python",
   "pygments_lexer": "ipython3",
   "version": "3.8.10"
  }
 },
 "nbformat": 4,
 "nbformat_minor": 5
}
